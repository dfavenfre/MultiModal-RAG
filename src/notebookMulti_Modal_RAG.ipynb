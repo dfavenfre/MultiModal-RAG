{
  "nbformat": 4,
  "nbformat_minor": 0,
  "metadata": {
    "colab": {
      "provenance": [],
      "toc_visible": true,
      "authorship_tag": "ABX9TyOk+RspwpU7euH3TCRasvuO",
      "include_colab_link": true
    },
    "kernelspec": {
      "name": "python3",
      "display_name": "Python 3"
    },
    "language_info": {
      "name": "python"
    }
  },
  "cells": [
    {
      "cell_type": "markdown",
      "metadata": {
        "id": "view-in-github",
        "colab_type": "text"
      },
      "source": [
        "<a href=\"https://colab.research.google.com/github/dfavenfre/MultiModal-RAG/blob/main/src/notebookMulti_Modal_RAG.ipynb\" target=\"_parent\"><img src=\"https://colab.research.google.com/assets/colab-badge.svg\" alt=\"Open In Colab\"/></a>"
      ]
    },
    {
      "cell_type": "markdown",
      "source": [
        "# Libraries"
      ],
      "metadata": {
        "id": "mGjfGobjnRFW"
      }
    },
    {
      "cell_type": "code",
      "execution_count": null,
      "metadata": {
        "collapsed": true,
        "id": "j8msV01wnKF6",
        "colab": {
          "base_uri": "https://localhost:8080/"
        },
        "outputId": "58488319-3e9e-494d-ab1a-b01577916155"
      },
      "outputs": [
        {
          "output_type": "stream",
          "name": "stdout",
          "text": [
            "\u001b[2K     \u001b[90m━━━━━━━━━━━━━━━━━━━━━━━━━━━━━━━━━━━━━━━━\u001b[0m \u001b[32m974.6/974.6 kB\u001b[0m \u001b[31m11.8 MB/s\u001b[0m eta \u001b[36m0:00:00\u001b[0m\n",
            "\u001b[2K     \u001b[90m━━━━━━━━━━━━━━━━━━━━━━━━━━━━━━━━━━━━━━━━\u001b[0m \u001b[32m2.2/2.2 MB\u001b[0m \u001b[31m59.0 MB/s\u001b[0m eta \u001b[36m0:00:00\u001b[0m\n",
            "\u001b[2K     \u001b[90m━━━━━━━━━━━━━━━━━━━━━━━━━━━━━━━━━━━━━━━━\u001b[0m \u001b[32m327.4/327.4 kB\u001b[0m \u001b[31m23.8 MB/s\u001b[0m eta \u001b[36m0:00:00\u001b[0m\n",
            "\u001b[2K     \u001b[90m━━━━━━━━━━━━━━━━━━━━━━━━━━━━━━━━━━━━━━━━\u001b[0m \u001b[32m559.5/559.5 kB\u001b[0m \u001b[31m42.9 MB/s\u001b[0m eta \u001b[36m0:00:00\u001b[0m\n",
            "\u001b[2K     \u001b[90m━━━━━━━━━━━━━━━━━━━━━━━━━━━━━━━━━━━━━━━━\u001b[0m \u001b[32m202.5/202.5 kB\u001b[0m \u001b[31m22.3 MB/s\u001b[0m eta \u001b[36m0:00:00\u001b[0m\n",
            "\u001b[2K     \u001b[90m━━━━━━━━━━━━━━━━━━━━━━━━━━━━━━━━━━━━━━━━\u001b[0m \u001b[32m40.3/40.3 kB\u001b[0m \u001b[31m4.7 MB/s\u001b[0m eta \u001b[36m0:00:00\u001b[0m\n",
            "\u001b[2K     \u001b[90m━━━━━━━━━━━━━━━━━━━━━━━━━━━━━━━━━━━━━━━━\u001b[0m \u001b[32m321.8/321.8 kB\u001b[0m \u001b[31m31.2 MB/s\u001b[0m eta \u001b[36m0:00:00\u001b[0m\n",
            "\u001b[2K     \u001b[90m━━━━━━━━━━━━━━━━━━━━━━━━━━━━━━━━━━━━━━━━\u001b[0m \u001b[32m127.4/127.4 kB\u001b[0m \u001b[31m15.8 MB/s\u001b[0m eta \u001b[36m0:00:00\u001b[0m\n",
            "\u001b[2K     \u001b[90m━━━━━━━━━━━━━━━━━━━━━━━━━━━━━━━━━━━━━━━━\u001b[0m \u001b[32m75.6/75.6 kB\u001b[0m \u001b[31m9.9 MB/s\u001b[0m eta \u001b[36m0:00:00\u001b[0m\n",
            "\u001b[2K     \u001b[90m━━━━━━━━━━━━━━━━━━━━━━━━━━━━━━━━━━━━━━━━\u001b[0m \u001b[32m2.4/2.4 MB\u001b[0m \u001b[31m75.2 MB/s\u001b[0m eta \u001b[36m0:00:00\u001b[0m\n",
            "\u001b[2K     \u001b[90m━━━━━━━━━━━━━━━━━━━━━━━━━━━━━━━━━━━━━━━━\u001b[0m \u001b[32m92.0/92.0 kB\u001b[0m \u001b[31m12.0 MB/s\u001b[0m eta \u001b[36m0:00:00\u001b[0m\n",
            "\u001b[2K     \u001b[90m━━━━━━━━━━━━━━━━━━━━━━━━━━━━━━━━━━━━━━━━\u001b[0m \u001b[32m62.4/62.4 kB\u001b[0m \u001b[31m6.7 MB/s\u001b[0m eta \u001b[36m0:00:00\u001b[0m\n",
            "\u001b[2K     \u001b[90m━━━━━━━━━━━━━━━━━━━━━━━━━━━━━━━━━━━━━━━━\u001b[0m \u001b[32m41.3/41.3 kB\u001b[0m \u001b[31m5.1 MB/s\u001b[0m eta \u001b[36m0:00:00\u001b[0m\n",
            "\u001b[2K     \u001b[90m━━━━━━━━━━━━━━━━━━━━━━━━━━━━━━━━━━━━━━━━\u001b[0m \u001b[32m6.8/6.8 MB\u001b[0m \u001b[31m65.3 MB/s\u001b[0m eta \u001b[36m0:00:00\u001b[0m\n",
            "\u001b[2K     \u001b[90m━━━━━━━━━━━━━━━━━━━━━━━━━━━━━━━━━━━━━━━━\u001b[0m \u001b[32m59.9/59.9 kB\u001b[0m \u001b[31m7.7 MB/s\u001b[0m eta \u001b[36m0:00:00\u001b[0m\n",
            "\u001b[2K     \u001b[90m━━━━━━━━━━━━━━━━━━━━━━━━━━━━━━━━━━━━━━━━\u001b[0m \u001b[32m107.0/107.0 kB\u001b[0m \u001b[31m13.6 MB/s\u001b[0m eta \u001b[36m0:00:00\u001b[0m\n",
            "\u001b[2K     \u001b[90m━━━━━━━━━━━━━━━━━━━━━━━━━━━━━━━━━━━━━━━━\u001b[0m \u001b[32m67.3/67.3 kB\u001b[0m \u001b[31m8.5 MB/s\u001b[0m eta \u001b[36m0:00:00\u001b[0m\n",
            "\u001b[?25h  Installing build dependencies ... \u001b[?25l\u001b[?25hdone\n",
            "  Getting requirements to build wheel ... \u001b[?25l\u001b[?25hdone\n",
            "  Preparing metadata (pyproject.toml) ... \u001b[?25l\u001b[?25hdone\n",
            "\u001b[2K     \u001b[90m━━━━━━━━━━━━━━━━━━━━━━━━━━━━━━━━━━━━━━━━\u001b[0m \u001b[32m283.7/283.7 kB\u001b[0m \u001b[31m29.3 MB/s\u001b[0m eta \u001b[36m0:00:00\u001b[0m\n",
            "\u001b[2K     \u001b[90m━━━━━━━━━━━━━━━━━━━━━━━━━━━━━━━━━━━━━━━━\u001b[0m \u001b[32m1.7/1.7 MB\u001b[0m \u001b[31m58.9 MB/s\u001b[0m eta \u001b[36m0:00:00\u001b[0m\n",
            "\u001b[2K     \u001b[90m━━━━━━━━━━━━━━━━━━━━━━━━━━━━━━━━━━━━━━━━\u001b[0m \u001b[32m67.6/67.6 kB\u001b[0m \u001b[31m8.5 MB/s\u001b[0m eta \u001b[36m0:00:00\u001b[0m\n",
            "\u001b[2K     \u001b[90m━━━━━━━━━━━━━━━━━━━━━━━━━━━━━━━━━━━━━━━━\u001b[0m \u001b[32m145.0/145.0 kB\u001b[0m \u001b[31m19.1 MB/s\u001b[0m eta \u001b[36m0:00:00\u001b[0m\n",
            "\u001b[2K     \u001b[90m━━━━━━━━━━━━━━━━━━━━━━━━━━━━━━━━━━━━━━━━\u001b[0m \u001b[32m1.1/1.1 MB\u001b[0m \u001b[31m68.8 MB/s\u001b[0m eta \u001b[36m0:00:00\u001b[0m\n",
            "\u001b[2K     \u001b[90m━━━━━━━━━━━━━━━━━━━━━━━━━━━━━━━━━━━━━━━━\u001b[0m \u001b[32m49.2/49.2 kB\u001b[0m \u001b[31m6.2 MB/s\u001b[0m eta \u001b[36m0:00:00\u001b[0m\n",
            "\u001b[2K     \u001b[90m━━━━━━━━━━━━━━━━━━━━━━━━━━━━━━━━━━━━━━━━\u001b[0m \u001b[32m71.9/71.9 kB\u001b[0m \u001b[31m9.5 MB/s\u001b[0m eta \u001b[36m0:00:00\u001b[0m\n",
            "\u001b[2K     \u001b[90m━━━━━━━━━━━━━━━━━━━━━━━━━━━━━━━━━━━━━━━━\u001b[0m \u001b[32m53.6/53.6 kB\u001b[0m \u001b[31m6.3 MB/s\u001b[0m eta \u001b[36m0:00:00\u001b[0m\n",
            "\u001b[2K     \u001b[90m━━━━━━━━━━━━━━━━━━━━━━━━━━━━━━━━━━━━━━━━\u001b[0m \u001b[32m77.9/77.9 kB\u001b[0m \u001b[31m9.0 MB/s\u001b[0m eta \u001b[36m0:00:00\u001b[0m\n",
            "\u001b[2K     \u001b[90m━━━━━━━━━━━━━━━━━━━━━━━━━━━━━━━━━━━━━━━━\u001b[0m \u001b[32m58.3/58.3 kB\u001b[0m \u001b[31m7.3 MB/s\u001b[0m eta \u001b[36m0:00:00\u001b[0m\n",
            "\u001b[2K     \u001b[90m━━━━━━━━━━━━━━━━━━━━━━━━━━━━━━━━━━━━━━━━\u001b[0m \u001b[32m46.0/46.0 kB\u001b[0m \u001b[31m5.6 MB/s\u001b[0m eta \u001b[36m0:00:00\u001b[0m\n",
            "\u001b[2K     \u001b[90m━━━━━━━━━━━━━━━━━━━━━━━━━━━━━━━━━━━━━━━━\u001b[0m \u001b[32m52.5/52.5 kB\u001b[0m \u001b[31m6.3 MB/s\u001b[0m eta \u001b[36m0:00:00\u001b[0m\n",
            "\u001b[2K     \u001b[90m━━━━━━━━━━━━━━━━━━━━━━━━━━━━━━━━━━━━━━━━\u001b[0m \u001b[32m130.5/130.5 kB\u001b[0m \u001b[31m13.5 MB/s\u001b[0m eta \u001b[36m0:00:00\u001b[0m\n",
            "\u001b[2K     \u001b[90m━━━━━━━━━━━━━━━━━━━━━━━━━━━━━━━━━━━━━━━━\u001b[0m \u001b[32m341.4/341.4 kB\u001b[0m \u001b[31m37.3 MB/s\u001b[0m eta \u001b[36m0:00:00\u001b[0m\n",
            "\u001b[2K     \u001b[90m━━━━━━━━━━━━━━━━━━━━━━━━━━━━━━━━━━━━━━━━\u001b[0m \u001b[32m3.4/3.4 MB\u001b[0m \u001b[31m91.0 MB/s\u001b[0m eta \u001b[36m0:00:00\u001b[0m\n",
            "\u001b[2K     \u001b[90m━━━━━━━━━━━━━━━━━━━━━━━━━━━━━━━━━━━━━━━━\u001b[0m \u001b[32m1.2/1.2 MB\u001b[0m \u001b[31m70.3 MB/s\u001b[0m eta \u001b[36m0:00:00\u001b[0m\n",
            "\u001b[2K     \u001b[90m━━━━━━━━━━━━━━━━━━━━━━━━━━━━━━━━━━━━━━━━\u001b[0m \u001b[32m130.2/130.2 kB\u001b[0m \u001b[31m14.6 MB/s\u001b[0m eta \u001b[36m0:00:00\u001b[0m\n",
            "\u001b[2K     \u001b[90m━━━━━━━━━━━━━━━━━━━━━━━━━━━━━━━━━━━━━━━━\u001b[0m \u001b[32m307.7/307.7 kB\u001b[0m \u001b[31m34.0 MB/s\u001b[0m eta \u001b[36m0:00:00\u001b[0m\n",
            "\u001b[2K     \u001b[90m━━━━━━━━━━━━━━━━━━━━━━━━━━━━━━━━━━━━━━━━\u001b[0m \u001b[32m86.8/86.8 kB\u001b[0m \u001b[31m10.9 MB/s\u001b[0m eta \u001b[36m0:00:00\u001b[0m\n",
            "\u001b[?25h  Building wheel for pypika (pyproject.toml) ... \u001b[?25l\u001b[?25hdone\n",
            "\u001b[2K     \u001b[90m━━━━━━━━━━━━━━━━━━━━━━━━━━━━━━━━━━━━━━━━\u001b[0m \u001b[32m2.0/2.0 MB\u001b[0m \u001b[31m18.5 MB/s\u001b[0m eta \u001b[36m0:00:00\u001b[0m\n",
            "\u001b[2K     \u001b[90m━━━━━━━━━━━━━━━━━━━━━━━━━━━━━━━━━━━━━━━━\u001b[0m \u001b[32m290.4/290.4 kB\u001b[0m \u001b[31m12.9 MB/s\u001b[0m eta \u001b[36m0:00:00\u001b[0m\n",
            "\u001b[2K     \u001b[90m━━━━━━━━━━━━━━━━━━━━━━━━━━━━━━━━━━━━━━━━\u001b[0m \u001b[32m431.4/431.4 kB\u001b[0m \u001b[31m15.8 MB/s\u001b[0m eta \u001b[36m0:00:00\u001b[0m\n",
            "\u001b[2K     \u001b[90m━━━━━━━━━━━━━━━━━━━━━━━━━━━━━━━━━━━━━━━━\u001b[0m \u001b[32m274.7/274.7 kB\u001b[0m \u001b[31m21.3 MB/s\u001b[0m eta \u001b[36m0:00:00\u001b[0m\n",
            "\u001b[2K     \u001b[90m━━━━━━━━━━━━━━━━━━━━━━━━━━━━━━━━━━━━━━━━\u001b[0m \u001b[32m981.5/981.5 kB\u001b[0m \u001b[31m26.4 MB/s\u001b[0m eta \u001b[36m0:00:00\u001b[0m\n",
            "\u001b[?25h  Preparing metadata (setup.py) ... \u001b[?25l\u001b[?25hdone\n",
            "\u001b[2K     \u001b[90m━━━━━━━━━━━━━━━━━━━━━━━━━━━━━━━━━━━━━━━━\u001b[0m \u001b[32m3.4/3.4 MB\u001b[0m \u001b[31m39.3 MB/s\u001b[0m eta \u001b[36m0:00:00\u001b[0m\n",
            "\u001b[2K     \u001b[90m━━━━━━━━━━━━━━━━━━━━━━━━━━━━━━━━━━━━━━━━\u001b[0m \u001b[32m41.0/41.0 kB\u001b[0m \u001b[31m3.8 MB/s\u001b[0m eta \u001b[36m0:00:00\u001b[0m\n",
            "\u001b[2K     \u001b[90m━━━━━━━━━━━━━━━━━━━━━━━━━━━━━━━━━━━━━━━━\u001b[0m \u001b[32m15.9/15.9 MB\u001b[0m \u001b[31m27.3 MB/s\u001b[0m eta \u001b[36m0:00:00\u001b[0m\n",
            "\u001b[2K     \u001b[90m━━━━━━━━━━━━━━━━━━━━━━━━━━━━━━━━━━━━━━━━\u001b[0m \u001b[32m2.4/2.4 MB\u001b[0m \u001b[31m75.6 MB/s\u001b[0m eta \u001b[36m0:00:00\u001b[0m\n",
            "\u001b[2K     \u001b[90m━━━━━━━━━━━━━━━━━━━━━━━━━━━━━━━━━━━━━━━━\u001b[0m \u001b[32m5.6/5.6 MB\u001b[0m \u001b[31m81.4 MB/s\u001b[0m eta \u001b[36m0:00:00\u001b[0m\n",
            "\u001b[2K     \u001b[90m━━━━━━━━━━━━━━━━━━━━━━━━━━━━━━━━━━━━━━━━\u001b[0m \u001b[32m56.4/56.4 kB\u001b[0m \u001b[31m6.7 MB/s\u001b[0m eta \u001b[36m0:00:00\u001b[0m\n",
            "\u001b[2K     \u001b[90m━━━━━━━━━━━━━━━━━━━━━━━━━━━━━━━━━━━━━━━━\u001b[0m \u001b[32m471.6/471.6 kB\u001b[0m \u001b[31m32.2 MB/s\u001b[0m eta \u001b[36m0:00:00\u001b[0m\n",
            "\u001b[2K     \u001b[90m━━━━━━━━━━━━━━━━━━━━━━━━━━━━━━━━━━━━━━━━\u001b[0m \u001b[32m112.5/112.5 kB\u001b[0m \u001b[31m12.2 MB/s\u001b[0m eta \u001b[36m0:00:00\u001b[0m\n",
            "\u001b[2K     \u001b[90m━━━━━━━━━━━━━━━━━━━━━━━━━━━━━━━━━━━━━━━━\u001b[0m \u001b[32m459.6/459.6 kB\u001b[0m \u001b[31m40.0 MB/s\u001b[0m eta \u001b[36m0:00:00\u001b[0m\n",
            "\u001b[2K     \u001b[90m━━━━━━━━━━━━━━━━━━━━━━━━━━━━━━━━━━━━━━━━\u001b[0m \u001b[32m244.3/244.3 kB\u001b[0m \u001b[31m24.0 MB/s\u001b[0m eta \u001b[36m0:00:00\u001b[0m\n",
            "\u001b[2K     \u001b[90m━━━━━━━━━━━━━━━━━━━━━━━━━━━━━━━━━━━━━━━━\u001b[0m \u001b[32m7.5/7.5 MB\u001b[0m \u001b[31m57.1 MB/s\u001b[0m eta \u001b[36m0:00:00\u001b[0m\n",
            "\u001b[2K     \u001b[90m━━━━━━━━━━━━━━━━━━━━━━━━━━━━━━━━━━━━━━━━\u001b[0m \u001b[32m19.2/19.2 MB\u001b[0m \u001b[31m40.6 MB/s\u001b[0m eta \u001b[36m0:00:00\u001b[0m\n",
            "\u001b[2K     \u001b[90m━━━━━━━━━━━━━━━━━━━━━━━━━━━━━━━━━━━━━━━━\u001b[0m \u001b[32m2.3/2.3 MB\u001b[0m \u001b[31m65.5 MB/s\u001b[0m eta \u001b[36m0:00:00\u001b[0m\n",
            "\u001b[2K     \u001b[90m━━━━━━━━━━━━━━━━━━━━━━━━━━━━━━━━━━━━━━━━\u001b[0m \u001b[32m159.9/159.9 kB\u001b[0m \u001b[31m19.8 MB/s\u001b[0m eta \u001b[36m0:00:00\u001b[0m\n",
            "\u001b[2K     \u001b[90m━━━━━━━━━━━━━━━━━━━━━━━━━━━━━━━━━━━━━━━━\u001b[0m \u001b[32m79.5/79.5 kB\u001b[0m \u001b[31m9.8 MB/s\u001b[0m eta \u001b[36m0:00:00\u001b[0m\n",
            "\u001b[2K     \u001b[90m━━━━━━━━━━━━━━━━━━━━━━━━━━━━━━━━━━━━━━━━\u001b[0m \u001b[32m4.5/4.5 MB\u001b[0m \u001b[31m44.5 MB/s\u001b[0m eta \u001b[36m0:00:00\u001b[0m\n",
            "\u001b[2K     \u001b[90m━━━━━━━━━━━━━━━━━━━━━━━━━━━━━━━━━━━━━━━━\u001b[0m \u001b[32m114.6/114.6 kB\u001b[0m \u001b[31m13.7 MB/s\u001b[0m eta \u001b[36m0:00:00\u001b[0m\n",
            "\u001b[2K     \u001b[90m━━━━━━━━━━━━━━━━━━━━━━━━━━━━━━━━━━━━━━━━\u001b[0m \u001b[32m80.8/80.8 kB\u001b[0m \u001b[31m8.2 MB/s\u001b[0m eta \u001b[36m0:00:00\u001b[0m\n",
            "\u001b[2K     \u001b[90m━━━━━━━━━━━━━━━━━━━━━━━━━━━━━━━━━━━━━━━━\u001b[0m \u001b[32m54.5/54.5 kB\u001b[0m \u001b[31m6.2 MB/s\u001b[0m eta \u001b[36m0:00:00\u001b[0m\n",
            "\u001b[2K     \u001b[90m━━━━━━━━━━━━━━━━━━━━━━━━━━━━━━━━━━━━━━━━\u001b[0m \u001b[32m117.0/117.0 kB\u001b[0m \u001b[31m13.6 MB/s\u001b[0m eta \u001b[36m0:00:00\u001b[0m\n",
            "\u001b[?25h  Preparing metadata (setup.py) ... \u001b[?25l\u001b[?25hdone\n",
            "\u001b[2K     \u001b[90m━━━━━━━━━━━━━━━━━━━━━━━━━━━━━━━━━━━━━━━━\u001b[0m \u001b[32m21.3/21.3 MB\u001b[0m \u001b[31m63.3 MB/s\u001b[0m eta \u001b[36m0:00:00\u001b[0m\n",
            "\u001b[2K     \u001b[90m━━━━━━━━━━━━━━━━━━━━━━━━━━━━━━━━━━━━━━━━\u001b[0m \u001b[32m42.2/42.2 kB\u001b[0m \u001b[31m5.1 MB/s\u001b[0m eta \u001b[36m0:00:00\u001b[0m\n",
            "\u001b[?25h  Preparing metadata (setup.py) ... \u001b[?25l\u001b[?25hdone\n",
            "\u001b[2K     \u001b[90m━━━━━━━━━━━━━━━━━━━━━━━━━━━━━━━━━━━━━━━━\u001b[0m \u001b[32m57.9/57.9 kB\u001b[0m \u001b[31m5.6 MB/s\u001b[0m eta \u001b[36m0:00:00\u001b[0m\n",
            "\u001b[2K     \u001b[90m━━━━━━━━━━━━━━━━━━━━━━━━━━━━━━━━━━━━━━━━\u001b[0m \u001b[32m2.8/2.8 MB\u001b[0m \u001b[31m72.1 MB/s\u001b[0m eta \u001b[36m0:00:00\u001b[0m\n",
            "\u001b[?25h  Building wheel for langdetect (setup.py) ... \u001b[?25l\u001b[?25hdone\n",
            "  Building wheel for antlr4-python3-runtime (setup.py) ... \u001b[?25l\u001b[?25hdone\n",
            "  Building wheel for iopath (setup.py) ... \u001b[?25l\u001b[?25hdone\n",
            "\u001b[31mERROR: pip's dependency resolver does not currently take into account all the packages that are installed. This behaviour is the source of the following dependency conflicts.\n",
            "imageio 2.31.6 requires pillow<10.1.0,>=8.3.2, but you have pillow 10.3.0 which is incompatible.\u001b[0m\u001b[31m\n",
            "\u001b[2K     \u001b[90m━━━━━━━━━━━━━━━━━━━━━━━━━━━━━━━━━━━━━━━━\u001b[0m \u001b[32m3.5/3.5 MB\u001b[0m \u001b[31m9.2 MB/s\u001b[0m eta \u001b[36m0:00:00\u001b[0m\n",
            "\u001b[2K     \u001b[90m━━━━━━━━━━━━━━━━━━━━━━━━━━━━━━━━━━━━━━━━\u001b[0m \u001b[32m41.5/41.5 MB\u001b[0m \u001b[31m13.8 MB/s\u001b[0m eta \u001b[36m0:00:00\u001b[0m\n",
            "\u001b[2K     \u001b[90m━━━━━━━━━━━━━━━━━━━━━━━━━━━━━━━━━━━━━━━━\u001b[0m \u001b[32m15.8/15.8 MB\u001b[0m \u001b[31m43.4 MB/s\u001b[0m eta \u001b[36m0:00:00\u001b[0m\n",
            "\u001b[?25h"
          ]
        }
      ],
      "source": [
        "%pip install -U --quiet langchain langchain_community openai chromadb langchain-experimental langchain-openai\n",
        "%pip install --quiet \"unstructured[all-docs]\" pypdf pillow pydantic lxml pillow matplotlib chromadb tiktoken\n",
        "%pip install --quiet PyMuPDF Pillow Spire.PDF"
      ]
    },
    {
      "cell_type": "markdown",
      "source": [
        "## Imports"
      ],
      "metadata": {
        "id": "7eXiFDkRnSxv"
      }
    },
    {
      "cell_type": "markdown",
      "source": [],
      "metadata": {
        "id": "5AQZnc9j9f5I"
      }
    },
    {
      "cell_type": "code",
      "source": [
        "from langchain.retrievers.multi_vector import MultiVectorRetriever\n",
        "from langchain_core.runnables import RunnableLambda, RunnablePassthrough\n",
        "from langchain.storage import InMemoryStore\n",
        "from langchain_community.embeddings import VertexAIEmbeddings\n",
        "from langchain_community.vectorstores import Chroma\n",
        "from langchain_core.documents import Document\n",
        "from langchain_openai import ChatOpenAI, OpenAIEmbeddings\n",
        "from langchain_community.document_loaders import PyPDFLoader\n",
        "from langchain.prompts import PromptTemplate\n",
        "from langchain_community.chat_models import ChatVertexAI\n",
        "from langchain_community.llms import VertexAI\n",
        "from langchain_core.messages import AIMessage\n",
        "from langchain_core.output_parsers import StrOutputParser\n",
        "from langchain_core.messages import HumanMessage\n",
        "from langchain_core.runnables import RunnableLambda\n",
        "from google.colab import userdata\n",
        "from IPython.display import HTML, display\n",
        "from PIL import Image\n",
        "from typing import Optional, Union, Dict, Tuple, List\n",
        "from datetime import datetime\n",
        "\n",
        "import base64\n",
        "import os\n",
        "import uuid\n",
        "import io\n",
        "import re\n",
        "import time\n",
        "import json"
      ],
      "metadata": {
        "id": "Pox9FGdNnTSz"
      },
      "execution_count": null,
      "outputs": []
    },
    {
      "cell_type": "markdown",
      "source": [
        "# Models & Prompts"
      ],
      "metadata": {
        "id": "BwTIKi1TtjGr"
      }
    },
    {
      "cell_type": "code",
      "source": [
        "# CONSTANT VARIABLES\n",
        "_OPENAI_EMBEDDING_MODEL = OpenAIEmbeddings(\n",
        "    openai_api_key=userdata.get(\"<OPENAI_API_KEY>\")\n",
        ")\n",
        "\n",
        "GPT_4o = ChatOpenAI(\n",
        "    openai_api_key=userdata.get(\"<OPENAI_API_KEY>\"),\n",
        "    temperature=1e-10,\n",
        "    max_tokens=500,\n",
        "    model_name=\"gpt-4o\"\n",
        ")\n",
        "\n",
        "rag_model = ChatOpenAI(\n",
        "    openai_api_key=userdata.get(\"<OPENAI_API_KEY>\"),\n",
        "    temperature=1e-10,\n",
        "    max_tokens=500,\n",
        "    model_name=\"gpt-3.5-turbo\"\n",
        ")"
      ],
      "metadata": {
        "id": "03i8PWf_toM6"
      },
      "execution_count": null,
      "outputs": []
    },
    {
      "cell_type": "markdown",
      "source": [
        "# Helper Functions"
      ],
      "metadata": {
        "id": "HgddT9lEnTmL"
      }
    },
    {
      "cell_type": "code",
      "source": [
        "def load_and_create_document(file_path: str) -> List[str]:\n",
        "  \"\"\"\n",
        "  Description:\n",
        "  -------------\n",
        "  Loads a PDF document from a given file path and\n",
        "  returns a list of strings containing the text content of each page.\n",
        "\n",
        "  Args:\n",
        "    file_path: The path to the PDF file.\n",
        "\n",
        "  Returns:\n",
        "    A list of strings representing the text content of each page in the PDF document.\n",
        "  \"\"\"\n",
        "  loader = PyPDFLoader(file_path)\n",
        "  docs = loader.load()\n",
        "  texts = [d.page_content for d in docs]\n",
        "\n",
        "  return texts"
      ],
      "metadata": {
        "id": "u_Ksmea2ns7M"
      },
      "execution_count": null,
      "outputs": []
    },
    {
      "cell_type": "code",
      "source": [
        "def generate_text_summaries(\n",
        "    texts: List[str],\n",
        "    tables: Optional[List] = [],\n",
        "    summarize_texts: bool=True,\n",
        "    model: ChatOpenAI = GPT_4o\n",
        "    ):\n",
        "  \"\"\"\n",
        "  Summarize text elements\n",
        "  texts: List of str\n",
        "  tables: List of str\n",
        "  summarize_texts: Bool to summarize texts\n",
        "  \"\"\"\n",
        "\n",
        "  # Prompt\n",
        "  prompt_text = \"\"\"You are an assistant tasked with summarizing tables and text for retrieval. \\\n",
        "  These summaries will be embedded and used to retrieve the raw text or table elements. \\\n",
        "  Give a concise summary of the table or text that is well optimized for retrieval. Table or text: {element} \"\"\"\n",
        "  prompt = PromptTemplate.from_template(prompt_text)\n",
        "  empty_response = RunnableLambda(\n",
        "      lambda x: AIMessage(content=\"Error processing document\")\n",
        "  )\n",
        "\n",
        "  # Text summary chain\n",
        "  summarize_chain = (\n",
        "      {\n",
        "          \"element\": lambda x: x\n",
        "      }\n",
        "      | prompt\n",
        "      | model\n",
        "      | StrOutputParser()\n",
        "  )\n",
        "\n",
        "  # Initialize empty summaries\n",
        "  text_summaries = []\n",
        "  table_summaries = []\n",
        "\n",
        "  # Apply to text if texts are provided and summarization is requested\n",
        "  if texts and summarize_texts:\n",
        "      text_summaries = summarize_chain.batch(texts, {\"max_concurrency\": 1})\n",
        "  elif texts:\n",
        "      text_summaries = texts\n",
        "\n",
        "  # Apply to tables if tables are provided\n",
        "  if tables:\n",
        "    table_summaries = summarize_chain.batch(tables, {\"max_concurrency\": 1})\n",
        "\n",
        "    return text_summaries, table_summaries\n",
        "\n",
        "  else:\n",
        "    return text_summaries"
      ],
      "metadata": {
        "id": "Wi_mwu-Ynlho"
      },
      "execution_count": null,
      "outputs": []
    },
    {
      "cell_type": "code",
      "source": [
        "def encode_image(image_path):\n",
        "    \"\"\"Getting the base64 string\"\"\"\n",
        "    with open(image_path, \"rb\") as image_file:\n",
        "        return base64.b64encode(image_file.read()).decode(\"utf-8\")"
      ],
      "metadata": {
        "id": "8EaDYxMPno1d"
      },
      "execution_count": null,
      "outputs": []
    },
    {
      "cell_type": "code",
      "source": [
        "def image_summarize(img_base64, prompt, model: ChatOpenAI = GPT_4o):\n",
        "    \"\"\"Make image summary\"\"\"\n",
        "    msg = model.invoke(\n",
        "        [\n",
        "            HumanMessage(\n",
        "                content=[\n",
        "                    {\"type\": \"text\", \"text\": prompt},\n",
        "                    {\n",
        "                        \"type\": \"image_url\",\n",
        "                        \"image_url\": {\n",
        "                            \"url\": f\"data:image/jpeg;base64,{img_base64}\"\n",
        "                            },\n",
        "                    },\n",
        "                ]\n",
        "            )\n",
        "        ]\n",
        "    )\n",
        "    return msg.content"
      ],
      "metadata": {
        "id": "yH3crSybnqdE"
      },
      "execution_count": null,
      "outputs": []
    },
    {
      "cell_type": "code",
      "source": [
        "def generate_img_summaries(path):\n",
        "    \"\"\"\n",
        "    Generate summaries and base64 encoded strings for images\n",
        "    path: Path to list of .PNG files extracted by Unstructured\n",
        "    \"\"\"\n",
        "\n",
        "    # Store base64 encoded images\n",
        "    img_base64_list = []\n",
        "    # Store image summaries\n",
        "    image_summaries = []\n",
        "\n",
        "    # Prompt\n",
        "    prompt = \"\"\"You are an assistant tasked with summarizing images for retrieval. \\\n",
        "    These summaries will be embedded and used to retrieve the raw image. \\\n",
        "    Give a concise summary of the image that is well optimized for retrieval.\"\"\"\n",
        "\n",
        "    # Apply to images\n",
        "    for img_file in sorted(os.listdir(path)):\n",
        "        if img_file.endswith(\".png\"):\n",
        "            img_path = os.path.join(path, img_file)\n",
        "            base64_image = encode_image(img_path)\n",
        "            img_base64_list.append(base64_image)\n",
        "            image_summaries.append(image_summarize(base64_image, prompt))\n",
        "\n",
        "    return img_base64_list, image_summaries"
      ],
      "metadata": {
        "id": "i1Ijm8DTnruL"
      },
      "execution_count": null,
      "outputs": []
    },
    {
      "cell_type": "code",
      "source": [
        "def create_chroma_vectorstore(\n",
        "    collection_name: Optional[str] = \"mm_rag_for_econ221\",\n",
        "    directory_name: Optional[str] = './chromadb'\n",
        "    ) -> Chroma:\n",
        "    \"\"\"\n",
        "    Description:\n",
        "    -------------\n",
        "    Creates a multi-vector store with the given retriever,\n",
        "    collection name, and directory name.\n",
        "\n",
        "    Args:\n",
        "        retriever: The multi-vector retriever to use.\n",
        "        collection_name: The name of the collection to create.\n",
        "        directory_name: The directory to store the collection in.\n",
        "\n",
        "    Returns:\n",
        "        A Chroma object representing the multi-vector store.\n",
        "    \"\"\"\n",
        "    vectorstore = Chroma(\n",
        "    collection_name=collection_name,\n",
        "    embedding_function=_OPENAI_EMBEDDING_MODEL,\n",
        "    persist_directory=directory_name,\n",
        "    collection_metadata={\"hnsw:space\":\"cosine\"}\n",
        "    )\n",
        "    vectorstore.persist()\n",
        "\n",
        "    return vectorstore"
      ],
      "metadata": {
        "id": "FKB5tMcU3XPH"
      },
      "execution_count": null,
      "outputs": []
    },
    {
      "cell_type": "code",
      "source": [
        "def update_documents(\n",
        "    retriever: Chroma,\n",
        "    doc_summaries: List[str],\n",
        "    doc_contents: List[str]\n",
        "    ) -> None:\n",
        "    \"\"\"Adds documents to a MultiVectorRetriever.\n",
        "\n",
        "    Args:\n",
        "        retriever: The chroma vectorstore instance.\n",
        "        doc_summaries: A list of document summaries.\n",
        "        doc_contents: A list of document contents.\n",
        "    \"\"\"\n",
        "\n",
        "    doc_ids = [str(uuid.uuid4()) for _ in doc_contents]\n",
        "    summary_docs = [\n",
        "        Document(page_content=s, metadata={\"doc_id\": doc_ids[i]})\n",
        "        for i, s in enumerate(doc_summaries)\n",
        "    ]\n",
        "    retriever.vectorstore.add_documents(summary_docs)\n",
        "    retriever.docstore.mset(list(zip(doc_ids, doc_contents)))"
      ],
      "metadata": {
        "id": "qVEmLKAD24Bw"
      },
      "execution_count": null,
      "outputs": []
    },
    {
      "cell_type": "code",
      "source": [
        "def create_multi_vector_retriever(\n",
        "    vectorstore,\n",
        "    text_summaries: List[str],\n",
        "    texts: List[str],\n",
        "    image_summaries,\n",
        "    images,\n",
        "    table_summaries: Optional[List[str]] = None,\n",
        "    tables: Optional[List[str]] = None,\n",
        "    ):\n",
        "  \"\"\"\n",
        "  Create retriever that indexes summaries, but returns raw images or texts\n",
        "  \"\"\"\n",
        "\n",
        "  # Initialize the storage layer\n",
        "  store = InMemoryStore()\n",
        "  id_key = \"doc_id\"\n",
        "\n",
        "  # Create the multi-vector retriever\n",
        "  retriever = MultiVectorRetriever(\n",
        "      vectorstore=vectorstore,\n",
        "      docstore=store,\n",
        "      id_key=id_key,\n",
        "  )\n",
        "\n",
        "  # Check that text_summaries is not empty before adding\n",
        "  if text_summaries:\n",
        "      update_documents(retriever, text_summaries, texts)\n",
        "  # Check that table_summaries is not empty before adding\n",
        "  if table_summaries:\n",
        "      update_documents(retriever, table_summaries, tables)\n",
        "  # Check that image_summaries is not empty before adding\n",
        "  if image_summaries:\n",
        "      update_documents(retriever, image_summaries, images)\n",
        "\n",
        "  return retriever"
      ],
      "metadata": {
        "id": "R2WMkbzP3QXM"
      },
      "execution_count": null,
      "outputs": []
    },
    {
      "cell_type": "code",
      "source": [
        "def plt_img_base64(img_base64):\n",
        "    \"\"\"Disply base64 encoded string as image\"\"\"\n",
        "    # Create an HTML img tag with the base64 string as the source\n",
        "    image_html = f'<img src=\"data:image/jpeg;base64,{img_base64}\" />'\n",
        "    # Display the image by rendering the HTML\n",
        "    display(HTML(image_html))"
      ],
      "metadata": {
        "id": "RiVfn7qxz0H_"
      },
      "execution_count": null,
      "outputs": []
    },
    {
      "cell_type": "code",
      "source": [
        "def looks_like_base64(sb):\n",
        "    \"\"\"Check if the string looks like base64\"\"\"\n",
        "    return re.match(\"^[A-Za-z0-9+/]+[=]{0,2}$\", sb) is not None"
      ],
      "metadata": {
        "id": "KrsdhL0dz2br"
      },
      "execution_count": null,
      "outputs": []
    },
    {
      "cell_type": "code",
      "source": [
        "def is_image_data(b64data):\n",
        "    \"\"\"\n",
        "    Check if the base64 data is an image by looking at the start of the data\n",
        "    \"\"\"\n",
        "    image_signatures = {\n",
        "        b\"\\xff\\xd8\\xff\": \"jpg\",\n",
        "        b\"\\x89\\x50\\x4e\\x47\\x0d\\x0a\\x1a\\x0a\": \"png\",\n",
        "        b\"\\x47\\x49\\x46\\x38\": \"gif\",\n",
        "        b\"\\x52\\x49\\x46\\x46\": \"webp\",\n",
        "    }\n",
        "    try:\n",
        "        header = base64.b64decode(b64data)[:8]  # Decode and get the first 8 bytes\n",
        "        for sig, format in image_signatures.items():\n",
        "            if header.startswith(sig):\n",
        "                return True\n",
        "        return False\n",
        "    except Exception:\n",
        "        return False"
      ],
      "metadata": {
        "id": "vvtAFWlfz3ln"
      },
      "execution_count": null,
      "outputs": []
    },
    {
      "cell_type": "code",
      "source": [
        "def resize_base64_image(base64_string, size=(128, 128)):\n",
        "    \"\"\"\n",
        "    Resize an image encoded as a Base64 string\n",
        "    \"\"\"\n",
        "    # Decode the Base64 string\n",
        "    img_data = base64.b64decode(base64_string)\n",
        "    img = Image.open(io.BytesIO(img_data))\n",
        "\n",
        "    # Resize the image\n",
        "    resized_img = img.resize(size, Image.LANCZOS)\n",
        "\n",
        "    # Save the resized image to a bytes buffer\n",
        "    buffered = io.BytesIO()\n",
        "    resized_img.save(buffered, format=img.format)\n",
        "\n",
        "    # Encode the resized image to Base64\n",
        "    return base64.b64encode(buffered.getvalue()).decode(\"utf-8\")"
      ],
      "metadata": {
        "id": "ETegGZ3Mz5yq"
      },
      "execution_count": null,
      "outputs": []
    },
    {
      "cell_type": "code",
      "source": [
        "def split_image_text_types(docs):\n",
        "    \"\"\"\n",
        "    Split base64-encoded images and texts\n",
        "    \"\"\"\n",
        "    b64_images = []\n",
        "    texts = []\n",
        "    for doc in docs:\n",
        "        # Check if the document is of type Document and extract page_content if so\n",
        "        if isinstance(doc, Document):\n",
        "            doc = doc.page_content\n",
        "        if looks_like_base64(doc) and is_image_data(doc):\n",
        "            doc = resize_base64_image(doc, size=(1300, 600))\n",
        "            b64_images.append(doc)\n",
        "        else:\n",
        "            texts.append(doc)\n",
        "    if len(b64_images) > 0:\n",
        "        return {\"images\": b64_images[:1], \"texts\": []}\n",
        "    return {\"images\": b64_images, \"texts\": texts}"
      ],
      "metadata": {
        "id": "QqS7-KDXz7PI"
      },
      "execution_count": null,
      "outputs": []
    },
    {
      "cell_type": "code",
      "source": [
        "def img_prompt_func(data_dict):\n",
        "    \"\"\"\n",
        "    Join the context into a single string\n",
        "    \"\"\"\n",
        "    formatted_texts = \"\\n\".join(data_dict[\"context\"][\"texts\"])\n",
        "    messages = []\n",
        "\n",
        "    # Adding the text for analysis\n",
        "    text_message = {\n",
        "        \"type\": \"text\",\n",
        "        \"text\": (\n",
        "        \"You are a teaching assistant helping students of TED University to guide them in questions\\n\"\n",
        "        \"related to their macroeconomics 221 course.\\n\"\n",
        "        \"You will be given a mixed of text, tables, and image(s) usually of charts or graphs.\\n\"\n",
        "        \"Use this information to to answer questions related to their macroeconomics 221 lecture and topics related to the course. \\n\"\n",
        "        \"Provide concise and to-the-point answers.\\n\"\n",
        "        f\"User-provided question: {data_dict['question']}\\n\\n\"\n",
        "        \"Text and / or tables:\\n\"\n",
        "        f\"{formatted_texts}\"\n",
        "        ),\n",
        "    }\n",
        "    messages.append(text_message)\n",
        "    # Adding image(s) to the messages if present\n",
        "    if data_dict[\"context\"][\"images\"]:\n",
        "        for image in data_dict[\"context\"][\"images\"]:\n",
        "            image_message = {\n",
        "                \"type\": \"image_url\",\n",
        "                \"image_url\": {\"url\": f\"data:image/jpeg;base64,{image}\"},\n",
        "            }\n",
        "            messages.append(image_message)\n",
        "    return [HumanMessage(content=messages)]"
      ],
      "metadata": {
        "id": "bizAQtnMz9q8"
      },
      "execution_count": null,
      "outputs": []
    },
    {
      "cell_type": "code",
      "source": [
        "def multi_modal_rag_chain(retriever, model: ChatOpenAI = GPT_4o):\n",
        "    \"\"\"\n",
        "    Multi-modal RAG chain\n",
        "    \"\"\"\n",
        "    # RAG pipeline\n",
        "    chain = (\n",
        "        {\n",
        "            \"context\": retriever | RunnableLambda(split_image_text_types),\n",
        "            \"question\": RunnablePassthrough(),\n",
        "        }\n",
        "        | RunnableLambda(img_prompt_func)\n",
        "        | model\n",
        "        | StrOutputParser()\n",
        "    )\n",
        "\n",
        "    return chain"
      ],
      "metadata": {
        "id": "l9_C-JdX0Sse"
      },
      "execution_count": null,
      "outputs": []
    },
    {
      "cell_type": "code",
      "source": [
        "def save_content(texts, text_summaries, img_base64_list, image_summaries, filename):\n",
        "    data = {\n",
        "        \"texts\": texts,\n",
        "        \"text_summaries\": text_summaries,\n",
        "        \"img_base64_list\": img_base64_list,\n",
        "        \"image_summaries\": image_summaries\n",
        "    }\n",
        "    with open(filename, 'w') as f:\n",
        "        json.dump(data, f)"
      ],
      "metadata": {
        "id": "SK60320dXL2u"
      },
      "execution_count": null,
      "outputs": []
    },
    {
      "cell_type": "code",
      "source": [
        "def load_tuples(filename):\n",
        "    with open(filename, 'r') as f:\n",
        "        data = json.load(f)\n",
        "    return data[\"texts\"], data[\"text_summaries\"], data[\"img_base64_list\"], data[\"image_summaries\"]"
      ],
      "metadata": {
        "id": "6zaDD_ft2y39"
      },
      "execution_count": null,
      "outputs": []
    },
    {
      "cell_type": "markdown",
      "source": [
        "# Document/Image/Table Preprocessing"
      ],
      "metadata": {
        "id": "Ix8tso-Dzvu1"
      }
    },
    {
      "cell_type": "code",
      "source": [
        "texts = load_and_create_document(\"/content/macroeconomics_chapter_1.pdf\")\n",
        "text_summaries = generate_text_summaries(texts)"
      ],
      "metadata": {
        "collapsed": true,
        "id": "GP1gzI8AtgNh"
      },
      "execution_count": null,
      "outputs": []
    },
    {
      "cell_type": "code",
      "source": [
        "img_base64_list, image_summaries = generate_img_summaries(\"/content/ECON211_IMAGES\")"
      ],
      "metadata": {
        "id": "NAJvH2NBv4IU"
      },
      "execution_count": null,
      "outputs": []
    },
    {
      "cell_type": "markdown",
      "source": [
        "## Save & Load created image and text summaries"
      ],
      "metadata": {
        "id": "YTUf3VU3vqgP"
      }
    },
    {
      "cell_type": "code",
      "source": [
        "save_content(texts, text_summaries, img_base64_list, image_summaries, \"data_summaries.json\")\n",
        "loaded_texts, loaded_text_summaries, loaded_img_base64_list, loaded_image_summaries = load_tuples(\"data_summaries.json\")"
      ],
      "metadata": {
        "id": "uN8TKZXjlirc"
      },
      "execution_count": null,
      "outputs": []
    },
    {
      "cell_type": "markdown",
      "source": [
        "# Multi-Modal Retriever & Vectorstore Generation"
      ],
      "metadata": {
        "id": "Tr5mv9nH4bjW"
      }
    },
    {
      "cell_type": "code",
      "source": [
        "# The vectorstore to use to index the summaries\n",
        "chromadb_vectorstore = create_chroma_vectorstore(\n",
        "    collection_name=\"mm_rag_for_econ221\",\n",
        "    directory_name=\"./chromadb\"\n",
        ")\n",
        "# Create multi-modal retriever\n",
        "mmretrieval = create_multi_vector_retriever(\n",
        "    chromadb_vectorstore,\n",
        "    loaded_text_summaries,\n",
        "    loaded_texts,\n",
        "    loaded_image_summaries,\n",
        "    loaded_img_base64_list\n",
        ")"
      ],
      "metadata": {
        "collapsed": true,
        "id": "ymQEyUf34fzZ",
        "colab": {
          "base_uri": "https://localhost:8080/"
        },
        "outputId": "7d99315e-c74b-4814-ac8e-8783a7a87c68"
      },
      "execution_count": null,
      "outputs": [
        {
          "output_type": "stream",
          "name": "stderr",
          "text": [
            "/usr/local/lib/python3.10/dist-packages/langchain_core/_api/deprecation.py:139: LangChainDeprecationWarning: Since Chroma 0.4.x the manual persistence method is no longer supported as docs are automatically persisted.\n",
            "  warn_deprecated(\n"
          ]
        }
      ]
    },
    {
      "cell_type": "markdown",
      "source": [
        "# Multi-Modal RAG"
      ],
      "metadata": {
        "id": "-QG6CLib0gr7"
      }
    },
    {
      "cell_type": "code",
      "source": [
        "chain_multimodal_rag = multi_modal_rag_chain(retriever=mmretrieval)"
      ],
      "metadata": {
        "id": "ghRDWH0k1md3"
      },
      "execution_count": null,
      "outputs": []
    },
    {
      "cell_type": "code",
      "source": [
        "rag_needles = [\n",
        "    \"Can you display the unemployment rate comparison between the united states and euro area?\",\n",
        "    \"Show the chart where the relationship between CPI and GDP deflator used for calculating inflation rate\"\n",
        "]"
      ],
      "metadata": {
        "id": "8SFmOTHv0jtX"
      },
      "execution_count": null,
      "outputs": []
    },
    {
      "cell_type": "code",
      "source": [
        "docs = mmretrieval.invoke(rag_needles[1], limit=1)\n",
        "plt_img_base64(docs[1])\n",
        "mm_rag_process_begins = datetime.now()\n",
        "result = chain_multimodal_rag.invoke(rag_needles[1])\n",
        "mm_rag_process_ends = datetime.now()\n",
        "print(result)\n",
        "print(\"-------------------------------------------\")\n",
        "print(f\"\\n***Time Elapsed During Image and Text Retrieval: {mm_rag_process_ends - mm_rag_process_begins}***\")"
      ],
      "metadata": {
        "id": "fPypIaadvUMf",
        "colab": {
          "base_uri": "https://localhost:8080/",
          "height": 457
        },
        "outputId": "33587bc0-8b6f-48e9-9fde-df9523577645"
      },
      "execution_count": null,
      "outputs": [
        {
          "output_type": "display_data",
          "data": {
            "text/plain": [
              "<IPython.core.display.HTML object>"
            ],
            "text/html": [
              "<img src=\"data:image/jpeg;base64,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\" />"
            ]
          },
          "metadata": {}
        },
        {
          "output_type": "stream",
          "name": "stdout",
          "text": [
            "The chart provided shows the relationship between the Consumer Price Index (CPI) and the GDP deflator in calculating the inflation rate from 1960 to 2010. The inflation rates computed using either the CPI or the GDP deflator are largely similar, as indicated by the close movement of the two lines over the years. The CPI is represented by the blue line, while the GDP deflator is represented by the pink line.\n",
            "-------------------------------------------\n",
            "\n",
            "***Time Elapsed During Image and Text Retrieval: 0:00:05.817202***\n"
          ]
        }
      ]
    }
  ]
}